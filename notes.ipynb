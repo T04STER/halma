{
 "cells": [
  {
   "cell_type": "code",
   "execution_count": null,
   "metadata": {},
   "outputs": [],
   "source": [
    "%load_ext autoreload\n",
    "%autoreload 2"
   ]
  },
  {
   "cell_type": "code",
   "execution_count": null,
   "metadata": {},
   "outputs": [],
   "source": [
    "import matplotlib.pyplot as plt\n",
    "import halma as h\n",
    "import numpy as np\n",
    "import game_tree as g\n",
    "import imageio.v2 as imageio\n",
    "from matplotlib.animation import FuncAnimation\n",
    "from IPython.display import HTML\n",
    "\n"
   ]
  },
  {
   "cell_type": "code",
   "execution_count": null,
   "metadata": {},
   "outputs": [],
   "source": [
    "game = h.Halma(h.get_board())\n",
    "moves = game.get_available_moves(1)\n"
   ]
  },
  {
   "cell_type": "code",
   "execution_count": null,
   "metadata": {},
   "outputs": [],
   "source": [
    "import random\n",
    "def draw_board(board, alpha=1):\n",
    "    for i in range(len(board)):\n",
    "        for j, v in enumerate(board[i]):\n",
    "            if v == 0:\n",
    "                plt.scatter(i,j, facecolors='none', color = 'gray', alpha=alpha)\n",
    "            elif v == 1:\n",
    "                plt.scatter(i,j,  color = 'blue', alpha=alpha)\n",
    "            else:\n",
    "                plt.scatter(i,j,  color = 'orange', alpha=alpha)\n",
    "\n",
    "def draw_moves(moves):\n",
    "    for move in moves:\n",
    "        xs, ys = move.src \n",
    "        xd, yd = move.dest\n",
    "        offset = 0\n",
    "        plt.arrow(xs+offset, ys+offset, 0.9*(xd-xs), 0.9*(yd-ys), head_width=0.2, head_length=0.2, linewidth=0.4)\n",
    "\n",
    "plt.figure(figsize=(10,10))\n",
    "draw_board(game.game_state.board)\n",
    "\n",
    "draw_moves(moves)\n",
    "\n"
   ]
  },
  {
   "cell_type": "code",
   "execution_count": null,
   "metadata": {},
   "outputs": [],
   "source": [
    "game.make_move(moves[0])\n"
   ]
  },
  {
   "cell_type": "code",
   "execution_count": null,
   "metadata": {},
   "outputs": [],
   "source": [
    "draw_board(game.game_state.board)\n",
    "moves = game.get_available_moves(1)\n",
    "draw_moves(moves)\n"
   ]
  },
  {
   "cell_type": "code",
   "execution_count": null,
   "metadata": {},
   "outputs": [],
   "source": [
    "import halma as h\n",
    "\n",
    "g2 = h.Halma(h.get_board())\n",
    "\n",
    "g2.game_state.board[14, 14] = 1\n",
    "g2.game_state.player_1.add((14,14))\n",
    "g2.game_state.board[13, 13] = 0\n",
    "g2.game_state.board[14, 12] = 0\n",
    "\n",
    "\n",
    "#print(len()\n",
    "moves  = g2.get_available_moves(1)\n",
    "\n",
    "draw_board(g2.game_state.board)\n",
    "draw_moves(moves)"
   ]
  },
  {
   "cell_type": "code",
   "execution_count": null,
   "metadata": {},
   "outputs": [],
   "source": [
    "g2.make_move(moves[0])\n",
    "draw_board(g2.game_state.board)\n",
    "moves = g2.get_pawn_moves(moves[0].dest, g2.game_state.board)\n",
    "draw_moves(moves)"
   ]
  },
  {
   "cell_type": "code",
   "execution_count": null,
   "metadata": {},
   "outputs": [],
   "source": [
    "def anim(g: h.Halma, path, p, frames=20, out_name=\"game.gif\"):\n",
    "    def klatka(moves, board, filename):\n",
    "        draw_board(board)\n",
    "        draw_moves(moves)\n",
    "        plt.savefig(filename)\n",
    "        plt.close()\n",
    "\n",
    "    initial_move = h.Move(src=None, dest=p)\n",
    "    moves = [initial_move]\n",
    "    prev_m = None\n",
    "    images = []\n",
    "    for i in range(frames):\n",
    "        filename = f\"{path}_{i}.png\"\n",
    "        moves = g.get_available_moves(1)\n",
    "        move = random.choice(moves)\n",
    "        plt.scatter(move.dest[0], move.dest[1], facecolors='none', color = 'red', s=2, alpha=0.5)\n",
    "        klatka(filter(lambda m: m.src == move.src, moves), g.game_state.board, filename)\n",
    "        images.append(imageio.imread(filename))\n",
    "        g.make_move(move)\n",
    "        prev_m = move\n",
    "        \n",
    "\n",
    "    imageio.mimsave(out_name, images, fps=1, loop=4)\n"
   ]
  },
  {
   "cell_type": "code",
   "execution_count": null,
   "metadata": {},
   "outputs": [],
   "source": [
    "def anim_game_tree(gt: g.GameTree, path, frames=20, out_name=\"game.gif\", depth=2):\n",
    "    def klatka(moves, board, filename):\n",
    "        draw_board(board)\n",
    "        draw_moves(moves)\n",
    "        plt.savefig(filename)\n",
    "        plt.close()\n",
    "\n",
    "    images = []\n",
    "    is_max_agent = True\n",
    "    for i in range(frames):\n",
    "        filename = f\"{path}_{i}.png\"\n",
    "        win_condition, move = gt.alpha_beta_dispatcher(\n",
    "                depth,\n",
    "                is_max_agent\n",
    "        )\n",
    "\n",
    "        if win_condition <= float('-inf') or  float('inf') <= win_condition:\n",
    "            break\n",
    "        is_max_agent = not is_max_agent\n",
    "        klatka([move], gt.halma.game_state.board, filename)\n",
    "        gt.halma.make_move(move)\n",
    "        images.append(imageio.imread(filename))\n",
    "    \n",
    "    imageio.mimsave(out_name, images, fps=1, loop=4)\n",
    "\n",
    "\n"
   ]
  },
  {
   "cell_type": "code",
   "execution_count": null,
   "metadata": {},
   "outputs": [],
   "source": [
    "board = h.get_board()\n",
    "gt = g.GameTree(h.Halma(board))\n",
    "anim_game_tree(gt, path='imgs/debug_test_absolute_heurestic_depth_3', depth=3, frames=100, out_name=\"alpha_beta_3_abs_heur.gif\")"
   ]
  },
  {
   "cell_type": "code",
   "execution_count": null,
   "metadata": {},
   "outputs": [],
   "source": [
    "gt.halma.player2_camp"
   ]
  }
 ],
 "metadata": {
  "kernelspec": {
   "display_name": ".venv",
   "language": "python",
   "name": "python3"
  },
  "language_info": {
   "codemirror_mode": {
    "name": "ipython",
    "version": 3
   },
   "file_extension": ".py",
   "mimetype": "text/x-python",
   "name": "python",
   "nbconvert_exporter": "python",
   "pygments_lexer": "ipython3",
   "version": "3.11.9"
  }
 },
 "nbformat": 4,
 "nbformat_minor": 2
}
